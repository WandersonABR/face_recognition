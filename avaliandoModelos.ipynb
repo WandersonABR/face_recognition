{
 "cells": [
  {
   "cell_type": "code",
   "execution_count": 172,
   "id": "0bc575db-249f-4472-bc89-826181a14706",
   "metadata": {},
   "outputs": [],
   "source": [
    "import numpy as np\n",
    "import pandas as pd\n",
    "\n",
    "import matplotlib.pyplot as plt\n",
    "%matplotlib inline"
   ]
  },
  {
   "cell_type": "code",
   "execution_count": 173,
   "id": "5977d311-5506-4187-8e38-3190b907f4c7",
   "metadata": {},
   "outputs": [],
   "source": [
    "df = pd.read_csv(\"faces2.csv\")"
   ]
  },
  {
   "cell_type": "code",
   "execution_count": 174,
   "id": "5fcbcf48-64a5-41f3-bb37-962d9c3304af",
   "metadata": {},
   "outputs": [
    {
     "data": {
      "text/html": [
       "<div>\n",
       "<style scoped>\n",
       "    .dataframe tbody tr th:only-of-type {\n",
       "        vertical-align: middle;\n",
       "    }\n",
       "\n",
       "    .dataframe tbody tr th {\n",
       "        vertical-align: top;\n",
       "    }\n",
       "\n",
       "    .dataframe thead th {\n",
       "        text-align: right;\n",
       "    }\n",
       "</style>\n",
       "<table border=\"1\" class=\"dataframe\">\n",
       "  <thead>\n",
       "    <tr style=\"text-align: right;\">\n",
       "      <th></th>\n",
       "      <th>Unnamed: 0</th>\n",
       "      <th>0</th>\n",
       "      <th>1</th>\n",
       "      <th>2</th>\n",
       "      <th>3</th>\n",
       "      <th>4</th>\n",
       "      <th>5</th>\n",
       "      <th>6</th>\n",
       "      <th>7</th>\n",
       "      <th>8</th>\n",
       "      <th>...</th>\n",
       "      <th>119</th>\n",
       "      <th>120</th>\n",
       "      <th>121</th>\n",
       "      <th>122</th>\n",
       "      <th>123</th>\n",
       "      <th>124</th>\n",
       "      <th>125</th>\n",
       "      <th>126</th>\n",
       "      <th>127</th>\n",
       "      <th>target</th>\n",
       "    </tr>\n",
       "  </thead>\n",
       "  <tbody>\n",
       "    <tr>\n",
       "      <th>187</th>\n",
       "      <td>187</td>\n",
       "      <td>-0.992916</td>\n",
       "      <td>-0.022542</td>\n",
       "      <td>0.036196</td>\n",
       "      <td>1.745325</td>\n",
       "      <td>0.854401</td>\n",
       "      <td>2.047154</td>\n",
       "      <td>1.957049</td>\n",
       "      <td>0.617729</td>\n",
       "      <td>0.811754</td>\n",
       "      <td>...</td>\n",
       "      <td>-0.877499</td>\n",
       "      <td>1.175461</td>\n",
       "      <td>-1.358159</td>\n",
       "      <td>0.873499</td>\n",
       "      <td>-1.008092</td>\n",
       "      <td>-0.193851</td>\n",
       "      <td>-0.866488</td>\n",
       "      <td>-0.916496</td>\n",
       "      <td>-0.217651</td>\n",
       "      <td>wandersonF</td>\n",
       "    </tr>\n",
       "    <tr>\n",
       "      <th>188</th>\n",
       "      <td>188</td>\n",
       "      <td>-1.582244</td>\n",
       "      <td>-0.128047</td>\n",
       "      <td>0.273325</td>\n",
       "      <td>1.887660</td>\n",
       "      <td>0.156800</td>\n",
       "      <td>2.048656</td>\n",
       "      <td>2.426804</td>\n",
       "      <td>0.860428</td>\n",
       "      <td>1.191629</td>\n",
       "      <td>...</td>\n",
       "      <td>-0.526193</td>\n",
       "      <td>-0.852951</td>\n",
       "      <td>0.062449</td>\n",
       "      <td>0.926860</td>\n",
       "      <td>-0.522391</td>\n",
       "      <td>-0.416123</td>\n",
       "      <td>0.176782</td>\n",
       "      <td>-0.447783</td>\n",
       "      <td>-0.256754</td>\n",
       "      <td>wandersonF</td>\n",
       "    </tr>\n",
       "    <tr>\n",
       "      <th>189</th>\n",
       "      <td>189</td>\n",
       "      <td>-1.024907</td>\n",
       "      <td>0.118502</td>\n",
       "      <td>0.242778</td>\n",
       "      <td>1.743642</td>\n",
       "      <td>0.363596</td>\n",
       "      <td>2.089461</td>\n",
       "      <td>2.009594</td>\n",
       "      <td>1.129666</td>\n",
       "      <td>1.391434</td>\n",
       "      <td>...</td>\n",
       "      <td>-0.689345</td>\n",
       "      <td>-0.470598</td>\n",
       "      <td>-0.082423</td>\n",
       "      <td>1.433930</td>\n",
       "      <td>-0.518543</td>\n",
       "      <td>-0.072709</td>\n",
       "      <td>-0.202007</td>\n",
       "      <td>-0.169454</td>\n",
       "      <td>-0.211468</td>\n",
       "      <td>wandersonF</td>\n",
       "    </tr>\n",
       "    <tr>\n",
       "      <th>190</th>\n",
       "      <td>190</td>\n",
       "      <td>-0.935544</td>\n",
       "      <td>-0.088811</td>\n",
       "      <td>-0.221225</td>\n",
       "      <td>1.421503</td>\n",
       "      <td>0.625742</td>\n",
       "      <td>2.130554</td>\n",
       "      <td>1.747446</td>\n",
       "      <td>1.641021</td>\n",
       "      <td>1.831261</td>\n",
       "      <td>...</td>\n",
       "      <td>-1.340125</td>\n",
       "      <td>-1.258122</td>\n",
       "      <td>0.036564</td>\n",
       "      <td>1.518143</td>\n",
       "      <td>-0.260979</td>\n",
       "      <td>0.107894</td>\n",
       "      <td>0.251887</td>\n",
       "      <td>-0.183202</td>\n",
       "      <td>0.405607</td>\n",
       "      <td>wandersonF</td>\n",
       "    </tr>\n",
       "    <tr>\n",
       "      <th>191</th>\n",
       "      <td>191</td>\n",
       "      <td>-1.988016</td>\n",
       "      <td>-1.387645</td>\n",
       "      <td>0.151006</td>\n",
       "      <td>1.352190</td>\n",
       "      <td>1.512200</td>\n",
       "      <td>1.142587</td>\n",
       "      <td>1.686467</td>\n",
       "      <td>0.688753</td>\n",
       "      <td>1.412974</td>\n",
       "      <td>...</td>\n",
       "      <td>-1.483626</td>\n",
       "      <td>-0.352604</td>\n",
       "      <td>0.110823</td>\n",
       "      <td>2.298837</td>\n",
       "      <td>-1.941190</td>\n",
       "      <td>-1.066675</td>\n",
       "      <td>-1.077915</td>\n",
       "      <td>-0.873504</td>\n",
       "      <td>-0.968153</td>\n",
       "      <td>wandersonF</td>\n",
       "    </tr>\n",
       "  </tbody>\n",
       "</table>\n",
       "<p>5 rows × 130 columns</p>\n",
       "</div>"
      ],
      "text/plain": [
       "     Unnamed: 0         0         1         2         3         4         5  \\\n",
       "187         187 -0.992916 -0.022542  0.036196  1.745325  0.854401  2.047154   \n",
       "188         188 -1.582244 -0.128047  0.273325  1.887660  0.156800  2.048656   \n",
       "189         189 -1.024907  0.118502  0.242778  1.743642  0.363596  2.089461   \n",
       "190         190 -0.935544 -0.088811 -0.221225  1.421503  0.625742  2.130554   \n",
       "191         191 -1.988016 -1.387645  0.151006  1.352190  1.512200  1.142587   \n",
       "\n",
       "            6         7         8  ...       119       120       121  \\\n",
       "187  1.957049  0.617729  0.811754  ... -0.877499  1.175461 -1.358159   \n",
       "188  2.426804  0.860428  1.191629  ... -0.526193 -0.852951  0.062449   \n",
       "189  2.009594  1.129666  1.391434  ... -0.689345 -0.470598 -0.082423   \n",
       "190  1.747446  1.641021  1.831261  ... -1.340125 -1.258122  0.036564   \n",
       "191  1.686467  0.688753  1.412974  ... -1.483626 -0.352604  0.110823   \n",
       "\n",
       "          122       123       124       125       126       127      target  \n",
       "187  0.873499 -1.008092 -0.193851 -0.866488 -0.916496 -0.217651  wandersonF  \n",
       "188  0.926860 -0.522391 -0.416123  0.176782 -0.447783 -0.256754  wandersonF  \n",
       "189  1.433930 -0.518543 -0.072709 -0.202007 -0.169454 -0.211468  wandersonF  \n",
       "190  1.518143 -0.260979  0.107894  0.251887 -0.183202  0.405607  wandersonF  \n",
       "191  2.298837 -1.941190 -1.066675 -1.077915 -0.873504 -0.968153  wandersonF  \n",
       "\n",
       "[5 rows x 130 columns]"
      ]
     },
     "execution_count": 174,
     "metadata": {},
     "output_type": "execute_result"
    }
   ],
   "source": [
    "df.tail()"
   ]
  },
  {
   "cell_type": "code",
   "execution_count": 175,
   "id": "9bbd54a3-f467-418b-9490-7877fdfaec8d",
   "metadata": {},
   "outputs": [],
   "source": [
    "X = np.array(df.drop(\"target\", axis=1))"
   ]
  },
  {
   "cell_type": "code",
   "execution_count": 176,
   "id": "53450b61-59fa-4159-af7d-4f31d9fb2f2d",
   "metadata": {},
   "outputs": [
    {
     "data": {
      "text/plain": [
       "(192, 129)"
      ]
     },
     "execution_count": 176,
     "metadata": {},
     "output_type": "execute_result"
    }
   ],
   "source": [
    "X.shape"
   ]
  },
  {
   "cell_type": "code",
   "execution_count": 177,
   "id": "ee0469ad-f023-4560-a4f5-a3659ab2addc",
   "metadata": {},
   "outputs": [],
   "source": [
    "y = np.array(df.target)"
   ]
  },
  {
   "cell_type": "code",
   "execution_count": 178,
   "id": "4e93447d-4ebb-4a43-9b29-c3259dc8a8c0",
   "metadata": {},
   "outputs": [
    {
     "data": {
      "text/plain": [
       "(192,)"
      ]
     },
     "execution_count": 178,
     "metadata": {},
     "output_type": "execute_result"
    }
   ],
   "source": [
    "y.shape"
   ]
  },
  {
   "cell_type": "markdown",
   "id": "dd1f0e86-4b4a-4d85-81d3-956191d45d85",
   "metadata": {},
   "source": [
    "## Misturando tudo"
   ]
  },
  {
   "cell_type": "code",
   "execution_count": 179,
   "id": "b055438f-30a2-45ec-8123-4008cc8298ac",
   "metadata": {},
   "outputs": [],
   "source": [
    "from sklearn.utils import shuffle"
   ]
  },
  {
   "cell_type": "code",
   "execution_count": 180,
   "id": "11a294a6-1c1a-404d-93cf-1f576f6008c4",
   "metadata": {},
   "outputs": [],
   "source": [
    "trainX, trainY = shuffle(X, y, random_state=0)"
   ]
  },
  {
   "cell_type": "markdown",
   "id": "c09f003e-a270-4669-a530-68de2c374136",
   "metadata": {},
   "source": [
    "## Tratar labels"
   ]
  },
  {
   "cell_type": "code",
   "execution_count": 181,
   "id": "02ddb945-f45b-41b0-8970-d15691c9f1bf",
   "metadata": {},
   "outputs": [],
   "source": [
    "from sklearn.preprocessing import LabelEncoder"
   ]
  },
  {
   "cell_type": "code",
   "execution_count": 182,
   "id": "3248d24f-78db-4f41-a0a8-e96929d72bd7",
   "metadata": {},
   "outputs": [],
   "source": [
    "out_encoder = LabelEncoder()"
   ]
  },
  {
   "cell_type": "code",
   "execution_count": 183,
   "id": "5566c979-51f4-46b5-9615-10f389f24e96",
   "metadata": {},
   "outputs": [
    {
     "data": {
      "text/plain": [
       "LabelEncoder()"
      ]
     },
     "execution_count": 183,
     "metadata": {},
     "output_type": "execute_result"
    }
   ],
   "source": [
    "# Trainando para maquina saber que ana = 0, wanderson = 1\n",
    "out_encoder.fit(trainY)"
   ]
  },
  {
   "cell_type": "code",
   "execution_count": 184,
   "id": "12068654-f097-4241-91e6-799c458f357b",
   "metadata": {},
   "outputs": [],
   "source": [
    "# Transformando em 0 e 1\n",
    "trainY = out_encoder.transform(trainY)"
   ]
  },
  {
   "cell_type": "code",
   "execution_count": 185,
   "id": "1234af9c-ebcd-4d55-8769-7dc0b45b5711",
   "metadata": {},
   "outputs": [
    {
     "data": {
      "text/plain": [
       "array([1, 0, 1, 1, 1, 0, 0, 1, 1, 0, 0, 1, 1, 1, 1, 1, 0, 0, 1, 1, 0, 1,\n",
       "       1, 1, 1, 1, 0, 0, 1, 0, 0, 0, 1, 0, 0, 0, 1, 1, 1, 0, 1, 0, 0, 1,\n",
       "       1, 1, 0, 0, 1, 0, 1, 1, 0, 1, 0, 0, 1, 0, 0, 0, 1, 0, 1, 0, 1, 1,\n",
       "       1, 0, 1, 0, 0, 0, 1, 0, 1, 1, 0, 0, 0, 1, 1, 0, 0, 0, 0, 1, 1, 1,\n",
       "       1, 1, 1, 1, 0, 0, 1, 1, 1, 0, 1, 0, 0, 0, 0, 0, 0, 1, 0, 1, 1, 0,\n",
       "       0, 0, 1, 0, 1, 0, 0, 1, 1, 1, 0, 0, 0, 0, 1, 1, 0, 1, 1, 1, 0, 1,\n",
       "       0, 1, 1, 0, 0, 0, 0, 1, 1, 0, 1, 1, 1, 0, 0, 1, 0, 1, 1, 0, 0, 1,\n",
       "       1, 0, 1, 1, 1, 0, 1, 1, 1, 0, 1, 0, 0, 1, 1, 1, 0, 0, 0, 1, 0, 1,\n",
       "       1, 1, 0, 0, 1, 0, 0, 0, 0, 0, 0, 1, 0, 1, 0, 1])"
      ]
     },
     "execution_count": 185,
     "metadata": {},
     "output_type": "execute_result"
    }
   ],
   "source": [
    "trainY"
   ]
  },
  {
   "cell_type": "markdown",
   "id": "b6c179cd-b868-4f03-ab2c-d8f665660d14",
   "metadata": {},
   "source": [
    "## Validação"
   ]
  },
  {
   "cell_type": "code",
   "execution_count": 186,
   "id": "a420217e-fb0d-4fb5-9464-24b38f971a71",
   "metadata": {},
   "outputs": [],
   "source": [
    "df_val = pd.read_csv(\"validation_embeddings.csv\")"
   ]
  },
  {
   "cell_type": "code",
   "execution_count": 187,
   "id": "b631b396-a1ca-4746-a9ad-f0d49d8f5691",
   "metadata": {},
   "outputs": [
    {
     "data": {
      "text/html": [
       "<div>\n",
       "<style scoped>\n",
       "    .dataframe tbody tr th:only-of-type {\n",
       "        vertical-align: middle;\n",
       "    }\n",
       "\n",
       "    .dataframe tbody tr th {\n",
       "        vertical-align: top;\n",
       "    }\n",
       "\n",
       "    .dataframe thead th {\n",
       "        text-align: right;\n",
       "    }\n",
       "</style>\n",
       "<table border=\"1\" class=\"dataframe\">\n",
       "  <thead>\n",
       "    <tr style=\"text-align: right;\">\n",
       "      <th></th>\n",
       "      <th>0</th>\n",
       "      <th>1</th>\n",
       "      <th>2</th>\n",
       "      <th>3</th>\n",
       "      <th>4</th>\n",
       "      <th>5</th>\n",
       "      <th>6</th>\n",
       "      <th>7</th>\n",
       "      <th>8</th>\n",
       "      <th>9</th>\n",
       "      <th>...</th>\n",
       "      <th>119</th>\n",
       "      <th>120</th>\n",
       "      <th>121</th>\n",
       "      <th>122</th>\n",
       "      <th>123</th>\n",
       "      <th>124</th>\n",
       "      <th>125</th>\n",
       "      <th>126</th>\n",
       "      <th>127</th>\n",
       "      <th>label</th>\n",
       "    </tr>\n",
       "  </thead>\n",
       "  <tbody>\n",
       "    <tr>\n",
       "      <th>0</th>\n",
       "      <td>-1.511542</td>\n",
       "      <td>-0.471926</td>\n",
       "      <td>0.172099</td>\n",
       "      <td>-1.177993</td>\n",
       "      <td>-1.296270</td>\n",
       "      <td>-0.296078</td>\n",
       "      <td>-0.418086</td>\n",
       "      <td>1.162576</td>\n",
       "      <td>-1.439722</td>\n",
       "      <td>-0.060865</td>\n",
       "      <td>...</td>\n",
       "      <td>0.583630</td>\n",
       "      <td>0.801474</td>\n",
       "      <td>0.571475</td>\n",
       "      <td>0.565004</td>\n",
       "      <td>-0.536758</td>\n",
       "      <td>-1.183029</td>\n",
       "      <td>0.592187</td>\n",
       "      <td>0.619052</td>\n",
       "      <td>-0.380810</td>\n",
       "      <td>fotosA</td>\n",
       "    </tr>\n",
       "    <tr>\n",
       "      <th>1</th>\n",
       "      <td>-0.998076</td>\n",
       "      <td>-0.045019</td>\n",
       "      <td>0.253882</td>\n",
       "      <td>-1.956748</td>\n",
       "      <td>-1.215345</td>\n",
       "      <td>-0.724516</td>\n",
       "      <td>-0.193842</td>\n",
       "      <td>0.934270</td>\n",
       "      <td>-1.998826</td>\n",
       "      <td>-0.371582</td>\n",
       "      <td>...</td>\n",
       "      <td>0.379696</td>\n",
       "      <td>1.156376</td>\n",
       "      <td>0.889353</td>\n",
       "      <td>1.336619</td>\n",
       "      <td>-0.740843</td>\n",
       "      <td>-1.228618</td>\n",
       "      <td>0.059373</td>\n",
       "      <td>0.692930</td>\n",
       "      <td>-0.087135</td>\n",
       "      <td>fotosA</td>\n",
       "    </tr>\n",
       "    <tr>\n",
       "      <th>2</th>\n",
       "      <td>-0.268769</td>\n",
       "      <td>-0.206503</td>\n",
       "      <td>1.196563</td>\n",
       "      <td>-3.286769</td>\n",
       "      <td>-0.491292</td>\n",
       "      <td>-1.324165</td>\n",
       "      <td>-0.662850</td>\n",
       "      <td>1.421227</td>\n",
       "      <td>0.186117</td>\n",
       "      <td>-0.656509</td>\n",
       "      <td>...</td>\n",
       "      <td>0.616134</td>\n",
       "      <td>0.747204</td>\n",
       "      <td>1.008782</td>\n",
       "      <td>0.419480</td>\n",
       "      <td>-2.388464</td>\n",
       "      <td>-2.137645</td>\n",
       "      <td>0.351164</td>\n",
       "      <td>-0.379619</td>\n",
       "      <td>-0.722801</td>\n",
       "      <td>fotosA</td>\n",
       "    </tr>\n",
       "    <tr>\n",
       "      <th>3</th>\n",
       "      <td>0.145535</td>\n",
       "      <td>-1.280260</td>\n",
       "      <td>0.141022</td>\n",
       "      <td>-1.579792</td>\n",
       "      <td>-0.626326</td>\n",
       "      <td>-1.174022</td>\n",
       "      <td>-0.007542</td>\n",
       "      <td>2.051661</td>\n",
       "      <td>-1.509124</td>\n",
       "      <td>0.473418</td>\n",
       "      <td>...</td>\n",
       "      <td>0.904636</td>\n",
       "      <td>0.521592</td>\n",
       "      <td>0.202938</td>\n",
       "      <td>-0.007258</td>\n",
       "      <td>-1.190939</td>\n",
       "      <td>-1.435693</td>\n",
       "      <td>1.226715</td>\n",
       "      <td>-0.071954</td>\n",
       "      <td>-1.043784</td>\n",
       "      <td>fotosA</td>\n",
       "    </tr>\n",
       "    <tr>\n",
       "      <th>4</th>\n",
       "      <td>-0.185597</td>\n",
       "      <td>-0.916901</td>\n",
       "      <td>0.130886</td>\n",
       "      <td>-1.622946</td>\n",
       "      <td>-0.400379</td>\n",
       "      <td>-0.944256</td>\n",
       "      <td>0.108600</td>\n",
       "      <td>1.270523</td>\n",
       "      <td>-1.169302</td>\n",
       "      <td>0.238701</td>\n",
       "      <td>...</td>\n",
       "      <td>0.963786</td>\n",
       "      <td>0.777873</td>\n",
       "      <td>0.319327</td>\n",
       "      <td>-0.042030</td>\n",
       "      <td>-0.692378</td>\n",
       "      <td>-2.193852</td>\n",
       "      <td>1.329468</td>\n",
       "      <td>0.304385</td>\n",
       "      <td>-0.808809</td>\n",
       "      <td>fotosA</td>\n",
       "    </tr>\n",
       "  </tbody>\n",
       "</table>\n",
       "<p>5 rows × 129 columns</p>\n",
       "</div>"
      ],
      "text/plain": [
       "          0         1         2         3         4         5         6  \\\n",
       "0 -1.511542 -0.471926  0.172099 -1.177993 -1.296270 -0.296078 -0.418086   \n",
       "1 -0.998076 -0.045019  0.253882 -1.956748 -1.215345 -0.724516 -0.193842   \n",
       "2 -0.268769 -0.206503  1.196563 -3.286769 -0.491292 -1.324165 -0.662850   \n",
       "3  0.145535 -1.280260  0.141022 -1.579792 -0.626326 -1.174022 -0.007542   \n",
       "4 -0.185597 -0.916901  0.130886 -1.622946 -0.400379 -0.944256  0.108600   \n",
       "\n",
       "          7         8         9  ...       119       120       121       122  \\\n",
       "0  1.162576 -1.439722 -0.060865  ...  0.583630  0.801474  0.571475  0.565004   \n",
       "1  0.934270 -1.998826 -0.371582  ...  0.379696  1.156376  0.889353  1.336619   \n",
       "2  1.421227  0.186117 -0.656509  ...  0.616134  0.747204  1.008782  0.419480   \n",
       "3  2.051661 -1.509124  0.473418  ...  0.904636  0.521592  0.202938 -0.007258   \n",
       "4  1.270523 -1.169302  0.238701  ...  0.963786  0.777873  0.319327 -0.042030   \n",
       "\n",
       "        123       124       125       126       127   label  \n",
       "0 -0.536758 -1.183029  0.592187  0.619052 -0.380810  fotosA  \n",
       "1 -0.740843 -1.228618  0.059373  0.692930 -0.087135  fotosA  \n",
       "2 -2.388464 -2.137645  0.351164 -0.379619 -0.722801  fotosA  \n",
       "3 -1.190939 -1.435693  1.226715 -0.071954 -1.043784  fotosA  \n",
       "4 -0.692378 -2.193852  1.329468  0.304385 -0.808809  fotosA  \n",
       "\n",
       "[5 rows x 129 columns]"
      ]
     },
     "execution_count": 187,
     "metadata": {},
     "output_type": "execute_result"
    }
   ],
   "source": [
    "df_val.head()"
   ]
  },
  {
   "cell_type": "code",
   "execution_count": 188,
   "id": "5885ef7b-514c-497b-a9fe-147e0d6bc186",
   "metadata": {},
   "outputs": [],
   "source": [
    "valX = np.array(df_val.drop(\"label\", axis=1))\n",
    "valY = np.array(df_val.label)"
   ]
  },
  {
   "cell_type": "code",
   "execution_count": 189,
   "id": "2e878a94-4177-45a0-a498-e79f0f239502",
   "metadata": {},
   "outputs": [
    {
     "data": {
      "text/plain": [
       "LabelEncoder()"
      ]
     },
     "execution_count": 189,
     "metadata": {},
     "output_type": "execute_result"
    }
   ],
   "source": [
    "out_encoder.fit(valY)"
   ]
  },
  {
   "cell_type": "code",
   "execution_count": 190,
   "id": "819cb30b-2b07-49c3-924a-7b673fb292a8",
   "metadata": {},
   "outputs": [],
   "source": [
    "valY = out_encoder.transform(valY)"
   ]
  },
  {
   "cell_type": "code",
   "execution_count": 191,
   "id": "9cb285bb-1d7f-450d-91ac-c42fc08e362e",
   "metadata": {},
   "outputs": [
    {
     "data": {
      "text/plain": [
       "array([0, 0, 0, 0, 0, 0, 0, 0, 0, 0, 0, 0, 0, 0, 0, 0, 0, 0, 0, 0, 0, 1,\n",
       "       1, 1, 1, 1, 1, 1, 1, 1, 1, 1, 1, 1, 1, 1, 1, 1, 1, 1, 1, 1, 1, 1,\n",
       "       1, 1, 1, 1])"
      ]
     },
     "execution_count": 191,
     "metadata": {},
     "output_type": "execute_result"
    }
   ],
   "source": [
    "valY"
   ]
  },
  {
   "cell_type": "markdown",
   "id": "49597385-3032-49a8-be07-1a59e7e5cb99",
   "metadata": {},
   "source": [
    "## Avaliando algoritmos"
   ]
  },
  {
   "cell_type": "markdown",
   "id": "033362ae-9466-4735-8bb3-01aa9b7e79bd",
   "metadata": {},
   "source": [
    "## KNN"
   ]
  },
  {
   "cell_type": "code",
   "execution_count": 192,
   "id": "ba20b878-5600-4ff9-a6e4-cf3a88f964f3",
   "metadata": {},
   "outputs": [],
   "source": [
    "from sklearn.neighbors import KNeighborsClassifier"
   ]
  },
  {
   "cell_type": "code",
   "execution_count": 193,
   "id": "21b8e792-f8cf-45fb-86e2-66cc37f4ccb7",
   "metadata": {},
   "outputs": [],
   "source": [
    "knn = KNeighborsClassifier(n_neighbors=5)"
   ]
  },
  {
   "cell_type": "code",
   "execution_count": 194,
   "id": "9bfa0775-f984-4dde-976b-3567a71b82c2",
   "metadata": {},
   "outputs": [],
   "source": [
    "trainX = trainX[:, 1:]"
   ]
  },
  {
   "cell_type": "code",
   "execution_count": 195,
   "id": "bc534a72-34d5-468b-83aa-289d3d5a3fa5",
   "metadata": {},
   "outputs": [
    {
     "data": {
      "text/plain": [
       "KNeighborsClassifier()"
      ]
     },
     "execution_count": 195,
     "metadata": {},
     "output_type": "execute_result"
    }
   ],
   "source": [
    "knn.fit(trainX, trainY)"
   ]
  },
  {
   "cell_type": "code",
   "execution_count": 196,
   "id": "21e71d7b-623a-4a15-bc8f-1e3effaa380c",
   "metadata": {},
   "outputs": [],
   "source": [
    "yhat_train = knn.predict(trainX)\n",
    "yhat_val = knn.predict(valX)"
   ]
  },
  {
   "cell_type": "code",
   "execution_count": 197,
   "id": "a6f4b508-60d3-4163-b1a1-65a0984195bb",
   "metadata": {},
   "outputs": [
    {
     "data": {
      "text/plain": [
       "array([0, 0, 0, 0, 0, 0, 0, 0, 0, 0, 0, 0, 0, 0, 0, 0, 0, 0, 0, 0, 0, 1,\n",
       "       1, 1, 1, 1, 1, 1, 1, 1, 1, 1, 1, 1, 1, 1, 1, 1, 1, 1, 1, 1, 1, 1,\n",
       "       1, 1, 1, 1])"
      ]
     },
     "execution_count": 197,
     "metadata": {},
     "output_type": "execute_result"
    }
   ],
   "source": [
    "yhat_val"
   ]
  },
  {
   "cell_type": "code",
   "execution_count": 198,
   "id": "8689e2d6-d4ff-42b4-ba92-687b5c2725de",
   "metadata": {},
   "outputs": [],
   "source": [
    "from sklearn.metrics import confusion_matrix"
   ]
  },
  {
   "cell_type": "code",
   "execution_count": 199,
   "id": "f0234aea-01af-4010-94cd-9ff926580db5",
   "metadata": {},
   "outputs": [],
   "source": [
    "def print_confusion_matrix(model_name, valY, yhat_val):\n",
    "\n",
    "    cm = confusion_matrix(valY, yhat_val)\n",
    "    total = sum(sum(cm))\n",
    "    acc = (cm[0, 0] + cm[1, 1]) / total\n",
    "    sensitivity = cm[0, 0] / (cm[0, 0] + cm[0, 1])\n",
    "    specificity = cm[1, 1] / (cm[1, 0] + cm[1, 1])\n",
    "\n",
    "    print(\"MODELO : {}\".format(model_name))\n",
    "    print(\"Acurácia : {:.4f}\".format(acc))\n",
    "    print(\"Sensitividade : {:.4f}\".format(sensitivity))\n",
    "    print(\"Especificidade : {:.4f}\".format(specificity))\n",
    "\n",
    "    from mlxtend.plotting import plot_confusion_matrix\n",
    "    fig, ax = plot_confusion_matrix(conf_mat=cm, figsize=(5, 5))\n",
    "    plt.show()"
   ]
  },
  {
   "cell_type": "code",
   "execution_count": 200,
   "id": "f66cd0af-1a2e-49cf-bf00-e8e63980bce0",
   "metadata": {},
   "outputs": [
    {
     "name": "stdout",
     "output_type": "stream",
     "text": [
      "MODELO : KNN\n",
      "Acurácia : 1.0000\n",
      "Sensitividade : 1.0000\n",
      "Especificidade : 1.0000\n"
     ]
    },
    {
     "data": {
      "image/png": "[encoded data removed]",
      "text/plain": [
       "<Figure size 500x500 with 1 Axes>"
      ]
     },
     "metadata": {},
     "output_type": "display_data"
    }
   ],
   "source": [
    "print_confusion_matrix(\"KNN\", valY, yhat_val)"
   ]
  },
  {
   "cell_type": "markdown",
   "id": "82953fa1-3e9a-4e3e-b998-617da764792a",
   "metadata": {},
   "source": [
    "## SVM"
   ]
  },
  {
   "cell_type": "code",
   "execution_count": 201,
   "id": "7c8684e6-99c7-4266-9488-566e0049fcc9",
   "metadata": {},
   "outputs": [],
   "source": [
    "from sklearn import svm"
   ]
  },
  {
   "cell_type": "code",
   "execution_count": 202,
   "id": "32c63161-fb26-40ac-af63-fb4bbc87facb",
   "metadata": {},
   "outputs": [],
   "source": [
    "svm = svm.SVC()"
   ]
  },
  {
   "cell_type": "code",
   "execution_count": 203,
   "id": "33268e54-71b2-452a-8e0d-3459ac916c70",
   "metadata": {},
   "outputs": [
    {
     "data": {
      "text/plain": [
       "SVC()"
      ]
     },
     "execution_count": 203,
     "metadata": {},
     "output_type": "execute_result"
    }
   ],
   "source": [
    "svm.fit(trainX, trainY)"
   ]
  },
  {
   "cell_type": "code",
   "execution_count": 204,
   "id": "f9493f62-4117-4a3d-8f01-c10adef389e8",
   "metadata": {},
   "outputs": [],
   "source": [
    "yhat_train = svm.predict(trainX)\n",
    "yhat_val = svm.predict(valX)"
   ]
  },
  {
   "cell_type": "code",
   "execution_count": 205,
   "id": "56191284-c050-49a9-88a2-9375fd4e39ee",
   "metadata": {},
   "outputs": [
    {
     "name": "stdout",
     "output_type": "stream",
     "text": [
      "MODELO : SVM\n",
      "Acurácia : 1.0000\n",
      "Sensitividade : 1.0000\n",
      "Especificidade : 1.0000\n"
     ]
    },
    {
     "data": {
      "image/png": "[encoded data removed]",
      "text/plain": [
       "<Figure size 500x500 with 1 Axes>"
      ]
     },
     "metadata": {},
     "output_type": "display_data"
    }
   ],
   "source": [
    "print_confusion_matrix(\"SVM\", valY, yhat_val)"
   ]
  },
  {
   "cell_type": "markdown",
   "id": "04cd12e5-31f8-4785-9448-2650725c15a6",
   "metadata": {},
   "source": [
    "## Usando keras"
   ]
  },
  {
   "cell_type": "code",
   "execution_count": 206,
   "id": "e1b66530-5a8f-4854-9da6-cdd6998faa16",
   "metadata": {},
   "outputs": [],
   "source": [
    "from tensorflow.keras.utils import to_categorical"
   ]
  },
  {
   "cell_type": "code",
   "execution_count": 207,
   "id": "4370bcc6-f8c7-45c1-8600-4b947bd48095",
   "metadata": {},
   "outputs": [],
   "source": [
    "trainY = to_categorical(trainY)"
   ]
  },
  {
   "cell_type": "code",
   "execution_count": 208,
   "id": "9b86f26d-56c0-47d9-a181-5b84364ca6b3",
   "metadata": {},
   "outputs": [],
   "source": [
    "valY = to_categorical(valY)"
   ]
  },
  {
   "cell_type": "code",
   "execution_count": 209,
   "id": "82580fbf-5aca-4a46-b4c3-5951c30a2c4f",
   "metadata": {},
   "outputs": [],
   "source": [
    "from tensorflow.keras import models\n",
    "from tensorflow.keras import layers"
   ]
  },
  {
   "cell_type": "code",
   "execution_count": 210,
   "id": "8cfc430f-359f-4e0e-89dc-a273b43cfdcf",
   "metadata": {},
   "outputs": [
    {
     "name": "stdout",
     "output_type": "stream",
     "text": [
      "Model: \"sequential_3\"\n",
      "_________________________________________________________________\n",
      "Layer (type)                 Output Shape              Param #   \n",
      "=================================================================\n",
      "dense_6 (Dense)              (None, 64)                8256      \n",
      "_________________________________________________________________\n",
      "dropout_3 (Dropout)          (None, 64)                0         \n",
      "_________________________________________________________________\n",
      "dense_7 (Dense)              (None, 2)                 130       \n",
      "=================================================================\n",
      "Total params: 8,386\n",
      "Trainable params: 8,386\n",
      "Non-trainable params: 0\n",
      "_________________________________________________________________\n"
     ]
    }
   ],
   "source": [
    "model = models.Sequential()\n",
    "model.add(layers.Dense(64, activation=\"relu\", input_shape=(128,)))\n",
    "model.add(layers.Dropout(0.5)) # para a Rede não aprender tanto\n",
    "model.add(layers.Dense(2, activation=\"softmax\"))\n",
    "\n",
    "model.summary()"
   ]
  },
  {
   "cell_type": "code",
   "execution_count": 211,
   "id": "2ebba6e7-1f31-4c2e-a6f2-b2912d0426f1",
   "metadata": {},
   "outputs": [],
   "source": [
    "model.compile(optimizer=\"adam\",\n",
    "             loss=\"categorical_crossentropy\",\n",
    "             metrics=[\"accuracy\"])"
   ]
  },
  {
   "cell_type": "code",
   "execution_count": 212,
   "id": "26cbdba0-f763-45ab-9b18-8d774e101bf3",
   "metadata": {},
   "outputs": [
    {
     "name": "stdout",
     "output_type": "stream",
     "text": [
      "Epoch 1/100\n",
      "24/24 [==============================] - 0s 774us/step - loss: 0.7343 - accuracy: 0.7036\n",
      "Epoch 2/100\n",
      "24/24 [==============================] - 0s 690us/step - loss: 0.1273 - accuracy: 0.9338\n",
      "Epoch 3/100\n",
      "24/24 [==============================] - 0s 703us/step - loss: 0.0956 - accuracy: 0.9338\n",
      "Epoch 4/100\n",
      "24/24 [==============================] - 0s 693us/step - loss: 0.1107 - accuracy: 0.9268\n",
      "Epoch 5/100\n",
      "24/24 [==============================] - 0s 662us/step - loss: 0.0970 - accuracy: 0.9492\n",
      "Epoch 6/100\n",
      "24/24 [==============================] - 0s 715us/step - loss: 0.0649 - accuracy: 0.9679\n",
      "Epoch 7/100\n",
      "24/24 [==============================] - 0s 681us/step - loss: 0.0765 - accuracy: 0.9775\n",
      "Epoch 8/100\n",
      "24/24 [==============================] - 0s 758us/step - loss: 0.0597 - accuracy: 0.9949\n",
      "Epoch 9/100\n",
      "24/24 [==============================] - 0s 722us/step - loss: 0.0701 - accuracy: 0.9890\n",
      "Epoch 10/100\n",
      "24/24 [==============================] - 0s 780us/step - loss: 0.0369 - accuracy: 0.9932\n",
      "Epoch 11/100\n",
      "24/24 [==============================] - 0s 691us/step - loss: 0.0676 - accuracy: 0.9748\n",
      "Epoch 12/100\n",
      "24/24 [==============================] - 0s 770us/step - loss: 0.0500 - accuracy: 0.9778\n",
      "Epoch 13/100\n",
      "24/24 [==============================] - 0s 753us/step - loss: 0.0300 - accuracy: 0.9981\n",
      "Epoch 14/100\n",
      "24/24 [==============================] - 0s 725us/step - loss: 0.0339 - accuracy: 0.9860\n",
      "Epoch 15/100\n",
      "24/24 [==============================] - 0s 669us/step - loss: 0.0301 - accuracy: 0.9939\n",
      "Epoch 16/100\n",
      "24/24 [==============================] - 0s 678us/step - loss: 0.0424 - accuracy: 0.9655\n",
      "Epoch 17/100\n",
      "24/24 [==============================] - 0s 679us/step - loss: 0.0148 - accuracy: 1.0000\n",
      "Epoch 18/100\n",
      "24/24 [==============================] - 0s 663us/step - loss: 0.0252 - accuracy: 0.9989\n",
      "Epoch 19/100\n",
      "24/24 [==============================] - 0s 641us/step - loss: 0.0363 - accuracy: 0.9798\n",
      "Epoch 20/100\n",
      "24/24 [==============================] - 0s 669us/step - loss: 0.0192 - accuracy: 0.9987\n",
      "Epoch 21/100\n",
      "24/24 [==============================] - 0s 720us/step - loss: 0.0234 - accuracy: 0.9951\n",
      "Epoch 22/100\n",
      "24/24 [==============================] - 0s 730us/step - loss: 0.0162 - accuracy: 0.9956\n",
      "Epoch 23/100\n",
      "24/24 [==============================] - 0s 664us/step - loss: 0.0113 - accuracy: 0.9994\n",
      "Epoch 24/100\n",
      "24/24 [==============================] - 0s 698us/step - loss: 0.0126 - accuracy: 1.0000\n",
      "Epoch 25/100\n",
      "24/24 [==============================] - 0s 659us/step - loss: 0.0112 - accuracy: 1.0000\n",
      "Epoch 26/100\n",
      "24/24 [==============================] - 0s 707us/step - loss: 0.0095 - accuracy: 0.9968\n",
      "Epoch 27/100\n",
      "24/24 [==============================] - 0s 737us/step - loss: 0.0138 - accuracy: 1.0000\n",
      "Epoch 28/100\n",
      "24/24 [==============================] - 0s 805us/step - loss: 0.0091 - accuracy: 1.0000\n",
      "Epoch 29/100\n",
      "24/24 [==============================] - 0s 687us/step - loss: 0.0149 - accuracy: 1.0000\n",
      "Epoch 30/100\n",
      "24/24 [==============================] - 0s 649us/step - loss: 0.0129 - accuracy: 1.0000\n",
      "Epoch 31/100\n",
      "24/24 [==============================] - 0s 714us/step - loss: 0.0103 - accuracy: 1.0000\n",
      "Epoch 32/100\n",
      "24/24 [==============================] - 0s 681us/step - loss: 0.0196 - accuracy: 1.0000\n",
      "Epoch 33/100\n",
      "24/24 [==============================] - 0s 761us/step - loss: 0.0044 - accuracy: 1.0000\n",
      "Epoch 34/100\n",
      "24/24 [==============================] - 0s 670us/step - loss: 0.0053 - accuracy: 1.0000\n",
      "Epoch 35/100\n",
      "24/24 [==============================] - 0s 740us/step - loss: 0.0161 - accuracy: 0.9859\n",
      "Epoch 36/100\n",
      "24/24 [==============================] - 0s 1ms/step - loss: 0.0039 - accuracy: 1.0000\n",
      "Epoch 37/100\n",
      "24/24 [==============================] - 0s 816us/step - loss: 0.0040 - accuracy: 1.0000\n",
      "Epoch 38/100\n",
      "24/24 [==============================] - 0s 695us/step - loss: 0.0177 - accuracy: 1.0000\n",
      "Epoch 39/100\n",
      "24/24 [==============================] - 0s 646us/step - loss: 0.0048 - accuracy: 1.0000\n",
      "Epoch 40/100\n",
      "24/24 [==============================] - 0s 1ms/step - loss: 0.0047 - accuracy: 1.0000\n",
      "Epoch 41/100\n",
      "24/24 [==============================] - 0s 929us/step - loss: 0.0064 - accuracy: 1.0000\n",
      "Epoch 42/100\n",
      "24/24 [==============================] - 0s 872us/step - loss: 0.0073 - accuracy: 1.0000\n",
      "Epoch 43/100\n",
      "24/24 [==============================] - 0s 690us/step - loss: 0.0028 - accuracy: 1.0000\n",
      "Epoch 44/100\n",
      "24/24 [==============================] - 0s 792us/step - loss: 0.0097 - accuracy: 1.0000\n",
      "Epoch 45/100\n",
      "24/24 [==============================] - 0s 704us/step - loss: 0.0040 - accuracy: 1.0000\n",
      "Epoch 46/100\n",
      "24/24 [==============================] - 0s 737us/step - loss: 0.0028 - accuracy: 1.0000\n",
      "Epoch 47/100\n",
      "24/24 [==============================] - 0s 716us/step - loss: 0.0047 - accuracy: 1.0000\n",
      "Epoch 48/100\n",
      "24/24 [==============================] - 0s 615us/step - loss: 0.0030 - accuracy: 1.0000\n",
      "Epoch 49/100\n",
      "24/24 [==============================] - 0s 692us/step - loss: 0.0027 - accuracy: 1.0000\n",
      "Epoch 50/100\n",
      "24/24 [==============================] - 0s 752us/step - loss: 0.0035 - accuracy: 1.0000\n",
      "Epoch 51/100\n",
      "24/24 [==============================] - 0s 711us/step - loss: 0.0031 - accuracy: 1.0000\n",
      "Epoch 52/100\n",
      "24/24 [==============================] - 0s 741us/step - loss: 0.0068 - accuracy: 0.9989\n",
      "Epoch 53/100\n",
      "24/24 [==============================] - 0s 724us/step - loss: 0.0057 - accuracy: 1.0000\n",
      "Epoch 54/100\n",
      "24/24 [==============================] - 0s 815us/step - loss: 0.0020 - accuracy: 1.0000\n",
      "Epoch 55/100\n",
      "24/24 [==============================] - 0s 716us/step - loss: 0.0019 - accuracy: 1.0000\n",
      "Epoch 56/100\n",
      "24/24 [==============================] - 0s 652us/step - loss: 0.0017 - accuracy: 1.0000\n",
      "Epoch 57/100\n",
      "24/24 [==============================] - 0s 730us/step - loss: 0.0025 - accuracy: 1.0000\n",
      "Epoch 58/100\n",
      "24/24 [==============================] - 0s 671us/step - loss: 0.0050 - accuracy: 1.0000\n",
      "Epoch 59/100\n",
      "24/24 [==============================] - 0s 679us/step - loss: 0.0029 - accuracy: 1.0000\n",
      "Epoch 60/100\n",
      "24/24 [==============================] - 0s 707us/step - loss: 0.0014 - accuracy: 1.0000\n",
      "Epoch 61/100\n",
      "24/24 [==============================] - 0s 657us/step - loss: 0.0035 - accuracy: 1.0000\n",
      "Epoch 62/100\n",
      "24/24 [==============================] - 0s 689us/step - loss: 8.3026e-04 - accuracy: 1.0000\n",
      "Epoch 63/100\n",
      "24/24 [==============================] - 0s 713us/step - loss: 0.0090 - accuracy: 0.9901\n",
      "Epoch 64/100\n",
      "24/24 [==============================] - 0s 641us/step - loss: 0.0031 - accuracy: 1.0000\n",
      "Epoch 65/100\n",
      "24/24 [==============================] - 0s 741us/step - loss: 0.0012 - accuracy: 1.0000\n",
      "Epoch 66/100\n",
      "24/24 [==============================] - 0s 580us/step - loss: 0.0013 - accuracy: 1.0000\n",
      "Epoch 67/100\n",
      "24/24 [==============================] - 0s 752us/step - loss: 7.6358e-04 - accuracy: 1.0000\n",
      "Epoch 68/100\n",
      "24/24 [==============================] - 0s 775us/step - loss: 9.3517e-04 - accuracy: 1.0000\n",
      "Epoch 69/100\n",
      "24/24 [==============================] - 0s 705us/step - loss: 0.0028 - accuracy: 1.0000\n",
      "Epoch 70/100\n",
      "24/24 [==============================] - 0s 726us/step - loss: 0.0016 - accuracy: 1.0000\n",
      "Epoch 71/100\n",
      "24/24 [==============================] - 0s 753us/step - loss: 0.0028 - accuracy: 1.0000\n",
      "Epoch 72/100\n",
      "24/24 [==============================] - 0s 692us/step - loss: 8.9790e-04 - accuracy: 1.0000\n",
      "Epoch 73/100\n",
      "24/24 [==============================] - 0s 787us/step - loss: 0.0010 - accuracy: 1.0000\n",
      "Epoch 74/100\n",
      "24/24 [==============================] - 0s 680us/step - loss: 0.0021 - accuracy: 1.0000\n",
      "Epoch 75/100\n",
      "24/24 [==============================] - 0s 745us/step - loss: 8.6862e-04 - accuracy: 1.0000\n",
      "Epoch 76/100\n",
      "24/24 [==============================] - 0s 668us/step - loss: 9.5395e-04 - accuracy: 1.0000\n",
      "Epoch 77/100\n",
      "24/24 [==============================] - 0s 880us/step - loss: 3.3097e-04 - accuracy: 1.0000\n",
      "Epoch 78/100\n",
      "24/24 [==============================] - 0s 689us/step - loss: 6.3938e-04 - accuracy: 1.0000\n",
      "Epoch 79/100\n",
      "24/24 [==============================] - 0s 680us/step - loss: 8.5112e-04 - accuracy: 1.0000\n",
      "Epoch 80/100\n",
      "24/24 [==============================] - 0s 645us/step - loss: 9.3479e-04 - accuracy: 1.0000\n",
      "Epoch 81/100\n"
     ]
    },
    {
     "name": "stdout",
     "output_type": "stream",
     "text": [
      "24/24 [==============================] - 0s 743us/step - loss: 8.4255e-04 - accuracy: 1.0000\n",
      "Epoch 82/100\n",
      "24/24 [==============================] - 0s 756us/step - loss: 0.0011 - accuracy: 1.0000\n",
      "Epoch 83/100\n",
      "24/24 [==============================] - 0s 673us/step - loss: 7.6158e-04 - accuracy: 1.0000\n",
      "Epoch 84/100\n",
      "24/24 [==============================] - 0s 684us/step - loss: 0.0024 - accuracy: 1.0000\n",
      "Epoch 85/100\n",
      "24/24 [==============================] - 0s 787us/step - loss: 0.0013 - accuracy: 1.0000\n",
      "Epoch 86/100\n",
      "24/24 [==============================] - 0s 757us/step - loss: 3.8351e-04 - accuracy: 1.0000\n",
      "Epoch 87/100\n",
      "24/24 [==============================] - 0s 658us/step - loss: 6.2304e-04 - accuracy: 1.0000\n",
      "Epoch 88/100\n",
      "24/24 [==============================] - 0s 643us/step - loss: 0.0015 - accuracy: 1.0000\n",
      "Epoch 89/100\n",
      "24/24 [==============================] - 0s 628us/step - loss: 0.0015 - accuracy: 1.0000\n",
      "Epoch 90/100\n",
      "24/24 [==============================] - 0s 678us/step - loss: 8.5798e-04 - accuracy: 1.0000\n",
      "Epoch 91/100\n",
      "24/24 [==============================] - 0s 734us/step - loss: 3.5193e-04 - accuracy: 1.0000\n",
      "Epoch 92/100\n",
      "24/24 [==============================] - 0s 693us/step - loss: 8.3113e-04 - accuracy: 1.0000\n",
      "Epoch 93/100\n",
      "24/24 [==============================] - 0s 637us/step - loss: 0.0025 - accuracy: 1.0000\n",
      "Epoch 94/100\n",
      "24/24 [==============================] - 0s 673us/step - loss: 2.6534e-04 - accuracy: 1.0000\n",
      "Epoch 95/100\n",
      "24/24 [==============================] - 0s 622us/step - loss: 8.1689e-04 - accuracy: 1.0000\n",
      "Epoch 96/100\n",
      "24/24 [==============================] - 0s 602us/step - loss: 0.0018 - accuracy: 1.0000\n",
      "Epoch 97/100\n",
      "24/24 [==============================] - 0s 579us/step - loss: 0.0025 - accuracy: 1.0000\n",
      "Epoch 98/100\n",
      "24/24 [==============================] - 0s 685us/step - loss: 5.6094e-04 - accuracy: 1.0000\n",
      "Epoch 99/100\n",
      "24/24 [==============================] - 0s 668us/step - loss: 0.0022 - accuracy: 1.0000\n",
      "Epoch 100/100\n",
      "24/24 [==============================] - 0s 751us/step - loss: 3.6645e-04 - accuracy: 1.0000\n"
     ]
    },
    {
     "data": {
      "text/plain": [
       "<tensorflow.python.keras.callbacks.History at 0x1b40aab75f8>"
      ]
     },
     "execution_count": 212,
     "metadata": {},
     "output_type": "execute_result"
    }
   ],
   "source": [
    "model.fit(trainX, trainY, epochs=100, batch_size=8)"
   ]
  },
  {
   "cell_type": "code",
   "execution_count": 213,
   "id": "dafcc1bc-abe8-4a4c-8ec1-a7c335ad6f15",
   "metadata": {},
   "outputs": [],
   "source": [
    "yhat_train = model.predict(trainX)\n",
    "yhat_val = model.predict(valX)"
   ]
  },
  {
   "cell_type": "code",
   "execution_count": 214,
   "id": "d840250d-e982-4d7f-84a5-fe1f1be93734",
   "metadata": {},
   "outputs": [
    {
     "data": {
      "text/plain": [
       "array([0, 0, 0, 0, 0, 0, 0, 0, 0, 0, 0, 0, 0, 0, 0, 0, 0, 0, 0, 0, 0, 1,\n",
       "       1, 1, 1, 1, 1, 1, 1, 1, 1, 1, 1, 1, 1, 1, 1, 1, 1, 1, 1, 1, 1, 1,\n",
       "       1, 1, 1, 1], dtype=int64)"
      ]
     },
     "execution_count": 214,
     "metadata": {},
     "output_type": "execute_result"
    }
   ],
   "source": [
    "yhat_val = np.argmax(yhat_val, axis=1)\n",
    "yhat_val"
   ]
  },
  {
   "cell_type": "code",
   "execution_count": 215,
   "id": "31e02ac1-5cd3-4fbf-b5be-9fd44a91c42d",
   "metadata": {},
   "outputs": [],
   "source": [
    "valY = np.argmax(valY, axis=1)"
   ]
  },
  {
   "cell_type": "code",
   "execution_count": 216,
   "id": "da69c786-f8a3-4471-8c65-282301bb5169",
   "metadata": {},
   "outputs": [
    {
     "name": "stdout",
     "output_type": "stream",
     "text": [
      "MODELO : KERAS\n",
      "Acurácia : 1.0000\n",
      "Sensitividade : 1.0000\n",
      "Especificidade : 1.0000\n"
     ]
    },
    {
     "data": {
      "image/png": "[encoded data removed]",
      "text/plain": [
       "<Figure size 500x500 with 1 Axes>"
      ]
     },
     "metadata": {},
     "output_type": "display_data"
    }
   ],
   "source": [
    "print_confusion_matrix(\"KERAS\", valY, yhat_val)"
   ]
  },
  {
   "cell_type": "code",
   "execution_count": 217,
   "id": "97324557-3f8e-448e-93be-ee7ce1d38caf",
   "metadata": {},
   "outputs": [],
   "source": [
    "model.save('faces.h5')"
   ]
  },
  {
   "cell_type": "code",
   "execution_count": null,
   "id": "872e7384",
   "metadata": {},
   "outputs": [],
   "source": []
  }
 ],
 "metadata": {
  "kernelspec": {
   "display_name": "Python 3 (ipykernel)",
   "language": "python",
   "name": "python3"
  },
  "language_info": {
   "codemirror_mode": {
    "name": "ipython",
    "version": 3
   },
   "file_extension": ".py",
   "mimetype": "text/x-python",
   "name": "python",
   "nbconvert_exporter": "python",
   "pygments_lexer": "ipython3",
   "version": "3.7.1"
  }
 },
 "nbformat": 4,
 "nbformat_minor": 5
}
