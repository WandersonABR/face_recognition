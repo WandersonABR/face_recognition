{
 "cells": [
  {
   "cell_type": "code",
   "execution_count": 18,
   "metadata": {},
   "outputs": [],
   "source": [
    "import numpy as np\n",
    "import pandas as pd\n",
    "\n",
    "import matplotlib.pyplot as plt\n",
    "%matplotlib inline"
   ]
  },
  {
   "cell_type": "markdown",
   "metadata": {},
   "source": [
    "## TRAIN"
   ]
  },
  {
   "cell_type": "code",
   "execution_count": 19,
   "metadata": {},
   "outputs": [],
   "source": [
    "df_desconhecidos = pd.read_csv(\"faces_desconhecidos.csv\")"
   ]
  },
  {
   "cell_type": "code",
   "execution_count": 20,
   "metadata": {},
   "outputs": [],
   "source": [
    "df_conhecidos = pd.read_csv(\"faces2.csv\")"
   ]
  },
  {
   "cell_type": "code",
   "execution_count": 21,
   "metadata": {},
   "outputs": [],
   "source": [
    "df = pd.concat([df_desconhecidos, df_conhecidos], axis=0)\n",
    "if 'Unnamed: 0' in df.columns:\n",
    "    df = df.drop('Unnamed: 0', axis=1)"
   ]
  },
  {
   "cell_type": "code",
   "execution_count": 22,
   "metadata": {},
   "outputs": [
    {
     "data": {
      "text/html": [
       "<div>\n",
       "<style scoped>\n",
       "    .dataframe tbody tr th:only-of-type {\n",
       "        vertical-align: middle;\n",
       "    }\n",
       "\n",
       "    .dataframe tbody tr th {\n",
       "        vertical-align: top;\n",
       "    }\n",
       "\n",
       "    .dataframe thead th {\n",
       "        text-align: right;\n",
       "    }\n",
       "</style>\n",
       "<table border=\"1\" class=\"dataframe\">\n",
       "  <thead>\n",
       "    <tr style=\"text-align: right;\">\n",
       "      <th></th>\n",
       "      <th>0</th>\n",
       "      <th>1</th>\n",
       "      <th>2</th>\n",
       "      <th>3</th>\n",
       "      <th>4</th>\n",
       "      <th>5</th>\n",
       "      <th>6</th>\n",
       "      <th>7</th>\n",
       "      <th>8</th>\n",
       "      <th>9</th>\n",
       "      <th>...</th>\n",
       "      <th>119</th>\n",
       "      <th>120</th>\n",
       "      <th>121</th>\n",
       "      <th>122</th>\n",
       "      <th>123</th>\n",
       "      <th>124</th>\n",
       "      <th>125</th>\n",
       "      <th>126</th>\n",
       "      <th>127</th>\n",
       "      <th>target</th>\n",
       "    </tr>\n",
       "  </thead>\n",
       "  <tbody>\n",
       "    <tr>\n",
       "      <th>0</th>\n",
       "      <td>-0.028100</td>\n",
       "      <td>1.874009</td>\n",
       "      <td>0.975083</td>\n",
       "      <td>0.602640</td>\n",
       "      <td>0.651621</td>\n",
       "      <td>0.387701</td>\n",
       "      <td>0.754534</td>\n",
       "      <td>0.255482</td>\n",
       "      <td>0.570138</td>\n",
       "      <td>0.232678</td>\n",
       "      <td>...</td>\n",
       "      <td>0.000564</td>\n",
       "      <td>-1.750562</td>\n",
       "      <td>-0.740965</td>\n",
       "      <td>-1.333565</td>\n",
       "      <td>0.424362</td>\n",
       "      <td>1.464125</td>\n",
       "      <td>0.441541</td>\n",
       "      <td>0.117519</td>\n",
       "      <td>0.773804</td>\n",
       "      <td>desconhecidos</td>\n",
       "    </tr>\n",
       "    <tr>\n",
       "      <th>1</th>\n",
       "      <td>0.281798</td>\n",
       "      <td>0.222542</td>\n",
       "      <td>-0.637775</td>\n",
       "      <td>-1.389234</td>\n",
       "      <td>-0.944202</td>\n",
       "      <td>1.170996</td>\n",
       "      <td>-2.149016</td>\n",
       "      <td>0.207373</td>\n",
       "      <td>1.258633</td>\n",
       "      <td>1.118211</td>\n",
       "      <td>...</td>\n",
       "      <td>-2.077074</td>\n",
       "      <td>0.061272</td>\n",
       "      <td>0.858069</td>\n",
       "      <td>-0.620240</td>\n",
       "      <td>-0.448047</td>\n",
       "      <td>0.659153</td>\n",
       "      <td>-0.578539</td>\n",
       "      <td>0.022662</td>\n",
       "      <td>-1.110149</td>\n",
       "      <td>desconhecidos</td>\n",
       "    </tr>\n",
       "    <tr>\n",
       "      <th>2</th>\n",
       "      <td>-0.469598</td>\n",
       "      <td>-0.438383</td>\n",
       "      <td>1.035088</td>\n",
       "      <td>0.419017</td>\n",
       "      <td>-2.502093</td>\n",
       "      <td>1.199449</td>\n",
       "      <td>1.220177</td>\n",
       "      <td>-0.849276</td>\n",
       "      <td>-2.125674</td>\n",
       "      <td>0.487827</td>\n",
       "      <td>...</td>\n",
       "      <td>-0.075716</td>\n",
       "      <td>-0.870743</td>\n",
       "      <td>-0.749646</td>\n",
       "      <td>-0.024553</td>\n",
       "      <td>0.895486</td>\n",
       "      <td>-0.095862</td>\n",
       "      <td>1.756820</td>\n",
       "      <td>-0.284382</td>\n",
       "      <td>1.243302</td>\n",
       "      <td>desconhecidos</td>\n",
       "    </tr>\n",
       "    <tr>\n",
       "      <th>3</th>\n",
       "      <td>-0.019212</td>\n",
       "      <td>0.063674</td>\n",
       "      <td>0.368226</td>\n",
       "      <td>-0.734526</td>\n",
       "      <td>-1.221279</td>\n",
       "      <td>-1.026126</td>\n",
       "      <td>2.541132</td>\n",
       "      <td>-0.602338</td>\n",
       "      <td>0.804724</td>\n",
       "      <td>-1.249530</td>\n",
       "      <td>...</td>\n",
       "      <td>-1.705541</td>\n",
       "      <td>1.118912</td>\n",
       "      <td>0.027196</td>\n",
       "      <td>0.776124</td>\n",
       "      <td>0.068407</td>\n",
       "      <td>-0.755236</td>\n",
       "      <td>-0.928870</td>\n",
       "      <td>-2.261591</td>\n",
       "      <td>-1.204839</td>\n",
       "      <td>desconhecidos</td>\n",
       "    </tr>\n",
       "    <tr>\n",
       "      <th>4</th>\n",
       "      <td>0.792076</td>\n",
       "      <td>-1.098803</td>\n",
       "      <td>-1.363440</td>\n",
       "      <td>-0.442606</td>\n",
       "      <td>-1.206599</td>\n",
       "      <td>0.595012</td>\n",
       "      <td>-0.013578</td>\n",
       "      <td>0.476706</td>\n",
       "      <td>-1.628913</td>\n",
       "      <td>-0.248366</td>\n",
       "      <td>...</td>\n",
       "      <td>-1.437911</td>\n",
       "      <td>0.343600</td>\n",
       "      <td>1.075108</td>\n",
       "      <td>0.339993</td>\n",
       "      <td>0.843487</td>\n",
       "      <td>0.041740</td>\n",
       "      <td>1.926534</td>\n",
       "      <td>-0.437672</td>\n",
       "      <td>0.653635</td>\n",
       "      <td>desconhecidos</td>\n",
       "    </tr>\n",
       "    <tr>\n",
       "      <th>...</th>\n",
       "      <td>...</td>\n",
       "      <td>...</td>\n",
       "      <td>...</td>\n",
       "      <td>...</td>\n",
       "      <td>...</td>\n",
       "      <td>...</td>\n",
       "      <td>...</td>\n",
       "      <td>...</td>\n",
       "      <td>...</td>\n",
       "      <td>...</td>\n",
       "      <td>...</td>\n",
       "      <td>...</td>\n",
       "      <td>...</td>\n",
       "      <td>...</td>\n",
       "      <td>...</td>\n",
       "      <td>...</td>\n",
       "      <td>...</td>\n",
       "      <td>...</td>\n",
       "      <td>...</td>\n",
       "      <td>...</td>\n",
       "      <td>...</td>\n",
       "    </tr>\n",
       "    <tr>\n",
       "      <th>187</th>\n",
       "      <td>-0.992916</td>\n",
       "      <td>-0.022542</td>\n",
       "      <td>0.036196</td>\n",
       "      <td>1.745325</td>\n",
       "      <td>0.854401</td>\n",
       "      <td>2.047154</td>\n",
       "      <td>1.957049</td>\n",
       "      <td>0.617729</td>\n",
       "      <td>0.811754</td>\n",
       "      <td>-0.294685</td>\n",
       "      <td>...</td>\n",
       "      <td>-0.877499</td>\n",
       "      <td>1.175461</td>\n",
       "      <td>-1.358159</td>\n",
       "      <td>0.873499</td>\n",
       "      <td>-1.008092</td>\n",
       "      <td>-0.193851</td>\n",
       "      <td>-0.866488</td>\n",
       "      <td>-0.916496</td>\n",
       "      <td>-0.217651</td>\n",
       "      <td>wandersonF</td>\n",
       "    </tr>\n",
       "    <tr>\n",
       "      <th>188</th>\n",
       "      <td>-1.582244</td>\n",
       "      <td>-0.128047</td>\n",
       "      <td>0.273325</td>\n",
       "      <td>1.887660</td>\n",
       "      <td>0.156800</td>\n",
       "      <td>2.048656</td>\n",
       "      <td>2.426804</td>\n",
       "      <td>0.860428</td>\n",
       "      <td>1.191629</td>\n",
       "      <td>-0.455625</td>\n",
       "      <td>...</td>\n",
       "      <td>-0.526193</td>\n",
       "      <td>-0.852951</td>\n",
       "      <td>0.062449</td>\n",
       "      <td>0.926860</td>\n",
       "      <td>-0.522391</td>\n",
       "      <td>-0.416123</td>\n",
       "      <td>0.176782</td>\n",
       "      <td>-0.447783</td>\n",
       "      <td>-0.256754</td>\n",
       "      <td>wandersonF</td>\n",
       "    </tr>\n",
       "    <tr>\n",
       "      <th>189</th>\n",
       "      <td>-1.024907</td>\n",
       "      <td>0.118502</td>\n",
       "      <td>0.242778</td>\n",
       "      <td>1.743642</td>\n",
       "      <td>0.363596</td>\n",
       "      <td>2.089461</td>\n",
       "      <td>2.009594</td>\n",
       "      <td>1.129666</td>\n",
       "      <td>1.391434</td>\n",
       "      <td>-0.725070</td>\n",
       "      <td>...</td>\n",
       "      <td>-0.689345</td>\n",
       "      <td>-0.470598</td>\n",
       "      <td>-0.082423</td>\n",
       "      <td>1.433930</td>\n",
       "      <td>-0.518543</td>\n",
       "      <td>-0.072709</td>\n",
       "      <td>-0.202007</td>\n",
       "      <td>-0.169454</td>\n",
       "      <td>-0.211468</td>\n",
       "      <td>wandersonF</td>\n",
       "    </tr>\n",
       "    <tr>\n",
       "      <th>190</th>\n",
       "      <td>-0.935544</td>\n",
       "      <td>-0.088811</td>\n",
       "      <td>-0.221225</td>\n",
       "      <td>1.421503</td>\n",
       "      <td>0.625742</td>\n",
       "      <td>2.130554</td>\n",
       "      <td>1.747446</td>\n",
       "      <td>1.641021</td>\n",
       "      <td>1.831261</td>\n",
       "      <td>-1.065332</td>\n",
       "      <td>...</td>\n",
       "      <td>-1.340125</td>\n",
       "      <td>-1.258122</td>\n",
       "      <td>0.036564</td>\n",
       "      <td>1.518143</td>\n",
       "      <td>-0.260979</td>\n",
       "      <td>0.107894</td>\n",
       "      <td>0.251887</td>\n",
       "      <td>-0.183202</td>\n",
       "      <td>0.405607</td>\n",
       "      <td>wandersonF</td>\n",
       "    </tr>\n",
       "    <tr>\n",
       "      <th>191</th>\n",
       "      <td>-1.988016</td>\n",
       "      <td>-1.387645</td>\n",
       "      <td>0.151006</td>\n",
       "      <td>1.352190</td>\n",
       "      <td>1.512200</td>\n",
       "      <td>1.142587</td>\n",
       "      <td>1.686467</td>\n",
       "      <td>0.688753</td>\n",
       "      <td>1.412974</td>\n",
       "      <td>-1.683472</td>\n",
       "      <td>...</td>\n",
       "      <td>-1.483626</td>\n",
       "      <td>-0.352604</td>\n",
       "      <td>0.110823</td>\n",
       "      <td>2.298837</td>\n",
       "      <td>-1.941190</td>\n",
       "      <td>-1.066675</td>\n",
       "      <td>-1.077915</td>\n",
       "      <td>-0.873504</td>\n",
       "      <td>-0.968153</td>\n",
       "      <td>wandersonF</td>\n",
       "    </tr>\n",
       "  </tbody>\n",
       "</table>\n",
       "<p>29225 rows × 129 columns</p>\n",
       "</div>"
      ],
      "text/plain": [
       "            0         1         2         3         4         5         6  \\\n",
       "0   -0.028100  1.874009  0.975083  0.602640  0.651621  0.387701  0.754534   \n",
       "1    0.281798  0.222542 -0.637775 -1.389234 -0.944202  1.170996 -2.149016   \n",
       "2   -0.469598 -0.438383  1.035088  0.419017 -2.502093  1.199449  1.220177   \n",
       "3   -0.019212  0.063674  0.368226 -0.734526 -1.221279 -1.026126  2.541132   \n",
       "4    0.792076 -1.098803 -1.363440 -0.442606 -1.206599  0.595012 -0.013578   \n",
       "..        ...       ...       ...       ...       ...       ...       ...   \n",
       "187 -0.992916 -0.022542  0.036196  1.745325  0.854401  2.047154  1.957049   \n",
       "188 -1.582244 -0.128047  0.273325  1.887660  0.156800  2.048656  2.426804   \n",
       "189 -1.024907  0.118502  0.242778  1.743642  0.363596  2.089461  2.009594   \n",
       "190 -0.935544 -0.088811 -0.221225  1.421503  0.625742  2.130554  1.747446   \n",
       "191 -1.988016 -1.387645  0.151006  1.352190  1.512200  1.142587  1.686467   \n",
       "\n",
       "            7         8         9  ...       119       120       121  \\\n",
       "0    0.255482  0.570138  0.232678  ...  0.000564 -1.750562 -0.740965   \n",
       "1    0.207373  1.258633  1.118211  ... -2.077074  0.061272  0.858069   \n",
       "2   -0.849276 -2.125674  0.487827  ... -0.075716 -0.870743 -0.749646   \n",
       "3   -0.602338  0.804724 -1.249530  ... -1.705541  1.118912  0.027196   \n",
       "4    0.476706 -1.628913 -0.248366  ... -1.437911  0.343600  1.075108   \n",
       "..        ...       ...       ...  ...       ...       ...       ...   \n",
       "187  0.617729  0.811754 -0.294685  ... -0.877499  1.175461 -1.358159   \n",
       "188  0.860428  1.191629 -0.455625  ... -0.526193 -0.852951  0.062449   \n",
       "189  1.129666  1.391434 -0.725070  ... -0.689345 -0.470598 -0.082423   \n",
       "190  1.641021  1.831261 -1.065332  ... -1.340125 -1.258122  0.036564   \n",
       "191  0.688753  1.412974 -1.683472  ... -1.483626 -0.352604  0.110823   \n",
       "\n",
       "          122       123       124       125       126       127         target  \n",
       "0   -1.333565  0.424362  1.464125  0.441541  0.117519  0.773804  desconhecidos  \n",
       "1   -0.620240 -0.448047  0.659153 -0.578539  0.022662 -1.110149  desconhecidos  \n",
       "2   -0.024553  0.895486 -0.095862  1.756820 -0.284382  1.243302  desconhecidos  \n",
       "3    0.776124  0.068407 -0.755236 -0.928870 -2.261591 -1.204839  desconhecidos  \n",
       "4    0.339993  0.843487  0.041740  1.926534 -0.437672  0.653635  desconhecidos  \n",
       "..        ...       ...       ...       ...       ...       ...            ...  \n",
       "187  0.873499 -1.008092 -0.193851 -0.866488 -0.916496 -0.217651     wandersonF  \n",
       "188  0.926860 -0.522391 -0.416123  0.176782 -0.447783 -0.256754     wandersonF  \n",
       "189  1.433930 -0.518543 -0.072709 -0.202007 -0.169454 -0.211468     wandersonF  \n",
       "190  1.518143 -0.260979  0.107894  0.251887 -0.183202  0.405607     wandersonF  \n",
       "191  2.298837 -1.941190 -1.066675 -1.077915 -0.873504 -0.968153     wandersonF  \n",
       "\n",
       "[29225 rows x 129 columns]"
      ]
     },
     "execution_count": 22,
     "metadata": {},
     "output_type": "execute_result"
    }
   ],
   "source": [
    "df"
   ]
  },
  {
   "cell_type": "code",
   "execution_count": 23,
   "metadata": {},
   "outputs": [],
   "source": [
    "X = np.array(df.drop(\"target\", axis=1))\n",
    "y = np.array(df.target)"
   ]
  },
  {
   "cell_type": "code",
   "execution_count": 24,
   "metadata": {},
   "outputs": [
    {
     "data": {
      "text/plain": [
       "array([[-0.02810006,  1.874009  ,  0.9750827 , ...,  0.44154063,\n",
       "         0.11751907,  0.7738039 ],\n",
       "       [ 0.28179818,  0.22254208, -0.63777477, ..., -0.57853884,\n",
       "         0.02266233, -1.1101495 ],\n",
       "       [-0.4695979 , -0.4383834 ,  1.0350882 , ...,  1.7568198 ,\n",
       "        -0.28438193,  1.2433019 ],\n",
       "       ...,\n",
       "       [-1.0249074 ,  0.11850217,  0.24277794, ..., -0.2020067 ,\n",
       "        -0.16945417, -0.21146849],\n",
       "       [-0.93554366, -0.08881061, -0.22122467, ...,  0.25188717,\n",
       "        -0.1832025 ,  0.40560672],\n",
       "       [-1.9880158 , -1.3876452 ,  0.15100598, ..., -1.0779148 ,\n",
       "        -0.8735041 , -0.9681529 ]])"
      ]
     },
     "execution_count": 24,
     "metadata": {},
     "output_type": "execute_result"
    }
   ],
   "source": [
    "X"
   ]
  },
  {
   "cell_type": "code",
   "execution_count": 25,
   "metadata": {},
   "outputs": [
    {
     "data": {
      "text/plain": [
       "array(['desconhecidos', 'desconhecidos', 'desconhecidos', ...,\n",
       "       'wandersonF', 'wandersonF', 'wandersonF'], dtype=object)"
      ]
     },
     "execution_count": 25,
     "metadata": {},
     "output_type": "execute_result"
    }
   ],
   "source": [
    "y"
   ]
  },
  {
   "cell_type": "code",
   "execution_count": 26,
   "metadata": {},
   "outputs": [
    {
     "name": "stdout",
     "output_type": "stream",
     "text": [
      "(29225, 128)\n",
      "(29225,)\n"
     ]
    }
   ],
   "source": [
    "print(X.shape)\n",
    "print(y.shape)"
   ]
  },
  {
   "cell_type": "markdown",
   "metadata": {},
   "source": [
    "## MISTURANDO TUDO"
   ]
  },
  {
   "cell_type": "code",
   "execution_count": 27,
   "metadata": {},
   "outputs": [],
   "source": [
    "from sklearn.utils import shuffle"
   ]
  },
  {
   "cell_type": "code",
   "execution_count": 28,
   "metadata": {},
   "outputs": [],
   "source": [
    "X, y = shuffle(X, y, random_state=0)"
   ]
  },
  {
   "cell_type": "markdown",
   "metadata": {},
   "source": [
    "## SPLIT DATASET"
   ]
  },
  {
   "cell_type": "code",
   "execution_count": 29,
   "metadata": {},
   "outputs": [],
   "source": [
    "from sklearn.model_selection import train_test_split"
   ]
  },
  {
   "cell_type": "code",
   "execution_count": 30,
   "metadata": {},
   "outputs": [],
   "source": [
    "trainX, valX, trainY, valY = train_test_split(X, y, test_size=0.20, random_state=42)"
   ]
  },
  {
   "cell_type": "markdown",
   "metadata": {},
   "source": [
    "### NORMALIZANDO"
   ]
  },
  {
   "cell_type": "code",
   "execution_count": 31,
   "metadata": {},
   "outputs": [],
   "source": [
    "from sklearn.preprocessing import Normalizer"
   ]
  },
  {
   "cell_type": "code",
   "execution_count": 32,
   "metadata": {},
   "outputs": [],
   "source": [
    "norm = Normalizer(norm=\"l2\")\n",
    "trainX = norm.transform(trainX)\n",
    "valX = norm.transform(valX)"
   ]
  },
  {
   "cell_type": "markdown",
   "metadata": {},
   "source": [
    "## TRATANDO LABELS"
   ]
  },
  {
   "cell_type": "code",
   "execution_count": 33,
   "metadata": {},
   "outputs": [],
   "source": [
    "from sklearn.preprocessing import LabelEncoder"
   ]
  },
  {
   "cell_type": "code",
   "execution_count": 34,
   "metadata": {},
   "outputs": [
    {
     "data": {
      "text/plain": [
       "array(['anaF', 'desconhecidos', 'wandersonF'], dtype=object)"
      ]
     },
     "execution_count": 34,
     "metadata": {},
     "output_type": "execute_result"
    }
   ],
   "source": [
    "np.unique(trainY)"
   ]
  },
  {
   "cell_type": "code",
   "execution_count": 35,
   "metadata": {},
   "outputs": [
    {
     "data": {
      "text/plain": [
       "3"
      ]
     },
     "execution_count": 35,
     "metadata": {},
     "output_type": "execute_result"
    }
   ],
   "source": [
    "classes = len(np.unique(trainY))\n",
    "classes"
   ]
  },
  {
   "cell_type": "markdown",
   "metadata": {},
   "source": [
    "### Discretizando"
   ]
  },
  {
   "cell_type": "code",
   "execution_count": 36,
   "metadata": {},
   "outputs": [
    {
     "data": {
      "text/plain": [
       "array([0, 1, 2])"
      ]
     },
     "execution_count": 36,
     "metadata": {},
     "output_type": "execute_result"
    }
   ],
   "source": [
    "# label encode targets\n",
    "out_encoder = LabelEncoder()\n",
    "out_encoder.fit(trainY)\n",
    "trainY = out_encoder.transform(trainY)\n",
    "np.unique(trainY)"
   ]
  },
  {
   "cell_type": "code",
   "execution_count": 37,
   "metadata": {},
   "outputs": [
    {
     "data": {
      "text/plain": [
       "array([0, 1, 2])"
      ]
     },
     "execution_count": 37,
     "metadata": {},
     "output_type": "execute_result"
    }
   ],
   "source": [
    "# label encode targets\n",
    "out_encoder = LabelEncoder()\n",
    "out_encoder.fit(valY)\n",
    "valY = out_encoder.transform(valY)\n",
    "np.unique(valY)"
   ]
  },
  {
   "cell_type": "markdown",
   "metadata": {},
   "source": [
    "## USANDO O KERAS"
   ]
  },
  {
   "cell_type": "code",
   "execution_count": 38,
   "metadata": {},
   "outputs": [],
   "source": [
    "from tensorflow.keras.utils import to_categorical\n",
    "trainY = to_categorical(trainY)\n",
    "valY = to_categorical(valY)"
   ]
  },
  {
   "cell_type": "code",
   "execution_count": 39,
   "metadata": {},
   "outputs": [
    {
     "name": "stdout",
     "output_type": "stream",
     "text": [
      "[0. 1. 0.]\n",
      "[0. 1. 0.]\n"
     ]
    }
   ],
   "source": [
    "print(valY[0])\n",
    "print(trainY[0])"
   ]
  },
  {
   "cell_type": "code",
   "execution_count": 40,
   "metadata": {},
   "outputs": [],
   "source": [
    "from tensorflow.keras import models\n",
    "from tensorflow.keras import layers"
   ]
  },
  {
   "cell_type": "code",
   "execution_count": 41,
   "metadata": {},
   "outputs": [
    {
     "name": "stdout",
     "output_type": "stream",
     "text": [
      "Model: \"sequential\"\n",
      "_________________________________________________________________\n",
      "Layer (type)                 Output Shape              Param #   \n",
      "=================================================================\n",
      "dense (Dense)                (None, 128)               16512     \n",
      "_________________________________________________________________\n",
      "dropout (Dropout)            (None, 128)               0         \n",
      "_________________________________________________________________\n",
      "dense_1 (Dense)              (None, 3)                 387       \n",
      "=================================================================\n",
      "Total params: 16,899\n",
      "Trainable params: 16,899\n",
      "Non-trainable params: 0\n",
      "_________________________________________________________________\n"
     ]
    }
   ],
   "source": [
    "model = models.Sequential()\n",
    "model.add(layers.Dense(128, activation='relu', input_shape=(128,)))\n",
    "model.add(layers.Dropout(0.5))\n",
    "model.add(layers.Dense(classes, activation='softmax'))\n",
    "\n",
    "model.summary()"
   ]
  },
  {
   "cell_type": "code",
   "execution_count": 42,
   "metadata": {},
   "outputs": [],
   "source": [
    "model.compile(optimizer='adam',\n",
    "                loss='categorical_crossentropy',\n",
    "                metrics=['accuracy'])"
   ]
  },
  {
   "cell_type": "code",
   "execution_count": 43,
   "metadata": {},
   "outputs": [
    {
     "name": "stdout",
     "output_type": "stream",
     "text": [
      "Epoch 1/40\n",
      "2923/2923 [==============================] - 3s 1ms/step - loss: 0.1210 - accuracy: 0.9813 - val_loss: 0.0113 - val_accuracy: 0.9969\n",
      "Epoch 2/40\n",
      "2923/2923 [==============================] - 3s 1ms/step - loss: 0.0061 - accuracy: 0.9984 - val_loss: 0.0058 - val_accuracy: 0.9981\n",
      "Epoch 3/40\n",
      "2923/2923 [==============================] - 3s 904us/step - loss: 0.0040 - accuracy: 0.9987 - val_loss: 0.0049 - val_accuracy: 0.9981\n",
      "Epoch 4/40\n",
      "2923/2923 [==============================] - 3s 907us/step - loss: 0.0026 - accuracy: 0.9993 - val_loss: 0.0034 - val_accuracy: 0.9986\n",
      "Epoch 5/40\n",
      "2923/2923 [==============================] - 3s 905us/step - loss: 0.0019 - accuracy: 0.9996 - val_loss: 0.0035 - val_accuracy: 0.9986\n",
      "Epoch 6/40\n",
      "2923/2923 [==============================] - 3s 886us/step - loss: 0.0019 - accuracy: 0.9995 - val_loss: 0.0027 - val_accuracy: 0.9991\n",
      "Epoch 7/40\n",
      "2923/2923 [==============================] - 3s 925us/step - loss: 0.0011 - accuracy: 0.9996 - val_loss: 0.0028 - val_accuracy: 0.9990\n",
      "Epoch 8/40\n",
      "2923/2923 [==============================] - 3s 1ms/step - loss: 0.0014 - accuracy: 0.9993 - val_loss: 0.0020 - val_accuracy: 0.9991\n",
      "Epoch 9/40\n",
      "2923/2923 [==============================] - 3s 873us/step - loss: 0.0012 - accuracy: 0.9996 - val_loss: 0.0022 - val_accuracy: 0.9991\n",
      "Epoch 10/40\n",
      "2923/2923 [==============================] - 3s 880us/step - loss: 8.6855e-04 - accuracy: 0.9996 - val_loss: 0.0017 - val_accuracy: 0.9991\n",
      "Epoch 11/40\n",
      "2923/2923 [==============================] - 3s 880us/step - loss: 0.0012 - accuracy: 0.9998 - val_loss: 0.0016 - val_accuracy: 0.9991\n",
      "Epoch 12/40\n",
      "2923/2923 [==============================] - 3s 886us/step - loss: 4.6016e-04 - accuracy: 0.9999 - val_loss: 0.0031 - val_accuracy: 0.9986\n",
      "Epoch 13/40\n",
      "2923/2923 [==============================] - 3s 967us/step - loss: 7.0965e-04 - accuracy: 0.9997 - val_loss: 0.0014 - val_accuracy: 0.9991\n",
      "Epoch 14/40\n",
      "2923/2923 [==============================] - 3s 1ms/step - loss: 5.1540e-04 - accuracy: 0.9998 - val_loss: 0.0025 - val_accuracy: 0.9990\n",
      "Epoch 15/40\n",
      "2923/2923 [==============================] - 3s 912us/step - loss: 1.9688e-04 - accuracy: 0.9999 - val_loss: 0.0029 - val_accuracy: 0.9991\n",
      "Epoch 16/40\n",
      "2923/2923 [==============================] - 3s 890us/step - loss: 2.0305e-04 - accuracy: 1.0000 - val_loss: 0.0018 - val_accuracy: 0.9991\n",
      "Epoch 17/40\n",
      "2923/2923 [==============================] - 3s 912us/step - loss: 2.6374e-04 - accuracy: 0.9998 - val_loss: 0.0022 - val_accuracy: 0.9991\n",
      "Epoch 18/40\n",
      "2923/2923 [==============================] - 3s 904us/step - loss: 3.3446e-04 - accuracy: 0.9998 - val_loss: 0.0022 - val_accuracy: 0.9991\n",
      "Epoch 19/40\n",
      "2923/2923 [==============================] - 3s 1ms/step - loss: 3.1064e-04 - accuracy: 0.9998 - val_loss: 0.0033 - val_accuracy: 0.9991\n",
      "Epoch 20/40\n",
      "2923/2923 [==============================] - 3s 1ms/step - loss: 2.5103e-04 - accuracy: 0.9999 - val_loss: 0.0028 - val_accuracy: 0.9990\n",
      "Epoch 21/40\n",
      "2923/2923 [==============================] - 3s 912us/step - loss: 1.2288e-04 - accuracy: 1.0000 - val_loss: 0.0027 - val_accuracy: 0.9991\n",
      "Epoch 22/40\n",
      "2923/2923 [==============================] - 3s 924us/step - loss: 1.1677e-04 - accuracy: 1.0000 - val_loss: 0.0020 - val_accuracy: 0.9991\n",
      "Epoch 23/40\n",
      "2923/2923 [==============================] - 3s 936us/step - loss: 9.6482e-05 - accuracy: 1.0000 - val_loss: 0.0026 - val_accuracy: 0.9991\n",
      "Epoch 24/40\n",
      "2923/2923 [==============================] - 3s 908us/step - loss: 5.4532e-05 - accuracy: 1.0000 - val_loss: 0.0031 - val_accuracy: 0.9990\n",
      "Epoch 25/40\n",
      "2923/2923 [==============================] - 3s 1ms/step - loss: 5.1855e-05 - accuracy: 1.0000 - val_loss: 0.0027 - val_accuracy: 0.9991\n",
      "Epoch 26/40\n",
      "2923/2923 [==============================] - 3s 946us/step - loss: 1.7752e-04 - accuracy: 0.9999 - val_loss: 0.0033 - val_accuracy: 0.9990\n",
      "Epoch 27/40\n",
      "2923/2923 [==============================] - 3s 907us/step - loss: 2.1702e-04 - accuracy: 1.0000 - val_loss: 0.0030 - val_accuracy: 0.9990\n",
      "Epoch 28/40\n",
      "2923/2923 [==============================] - 3s 911us/step - loss: 5.6742e-05 - accuracy: 1.0000 - val_loss: 0.0034 - val_accuracy: 0.9991\n",
      "Epoch 29/40\n",
      "2923/2923 [==============================] - 3s 936us/step - loss: 9.2977e-04 - accuracy: 0.9997 - val_loss: 0.0040 - val_accuracy: 0.9991\n",
      "Epoch 30/40\n",
      "2923/2923 [==============================] - 3s 947us/step - loss: 3.2262e-05 - accuracy: 1.0000 - val_loss: 0.0035 - val_accuracy: 0.9990\n",
      "Epoch 31/40\n",
      "2923/2923 [==============================] - 3s 1ms/step - loss: 1.7007e-04 - accuracy: 0.9999 - val_loss: 0.0022 - val_accuracy: 0.9991\n",
      "Epoch 32/40\n",
      "2923/2923 [==============================] - 3s 939us/step - loss: 9.7614e-05 - accuracy: 1.0000 - val_loss: 0.0023 - val_accuracy: 0.9991\n",
      "Epoch 33/40\n",
      "2923/2923 [==============================] - 3s 942us/step - loss: 9.5838e-05 - accuracy: 0.9999 - val_loss: 0.0029 - val_accuracy: 0.9991\n",
      "Epoch 34/40\n",
      "2923/2923 [==============================] - 3s 936us/step - loss: 4.3280e-05 - accuracy: 1.0000 - val_loss: 0.0024 - val_accuracy: 0.9993\n",
      "Epoch 35/40\n",
      "2923/2923 [==============================] - 3s 943us/step - loss: 8.4221e-05 - accuracy: 0.9999 - val_loss: 0.0028 - val_accuracy: 0.9991\n",
      "Epoch 36/40\n",
      "2923/2923 [==============================] - 3s 1ms/step - loss: 2.1227e-05 - accuracy: 1.0000 - val_loss: 0.0025 - val_accuracy: 0.9993\n",
      "Epoch 37/40\n",
      "2923/2923 [==============================] - 3s 1ms/step - loss: 8.7429e-05 - accuracy: 1.0000 - val_loss: 0.0055 - val_accuracy: 0.9993\n",
      "Epoch 38/40\n",
      "2923/2923 [==============================] - 3s 916us/step - loss: 1.0526e-04 - accuracy: 0.9999 - val_loss: 0.0037 - val_accuracy: 0.9990\n",
      "Epoch 39/40\n",
      "2923/2923 [==============================] - 3s 937us/step - loss: 2.4756e-05 - accuracy: 1.0000 - val_loss: 0.0036 - val_accuracy: 0.9990\n",
      "Epoch 40/40\n",
      "2923/2923 [==============================] - 3s 945us/step - loss: 2.5217e-05 - accuracy: 1.0000 - val_loss: 0.0031 - val_accuracy: 0.9990\n"
     ]
    }
   ],
   "source": [
    "batch_size=8\n",
    "epochs= 40\n",
    "\n",
    "history = model.fit(trainX, trainY,  \n",
    "                    epochs=epochs, \n",
    "                    validation_data = (valX,valY), \n",
    "                    batch_size=batch_size)\n",
    "                   "
   ]
  },
  {
   "cell_type": "code",
   "execution_count": 44,
   "metadata": {},
   "outputs": [],
   "source": [
    "import matplotlib.pyplot as plt\n",
    "%matplotlib inline"
   ]
  },
  {
   "cell_type": "code",
   "execution_count": 46,
   "metadata": {},
   "outputs": [
    {
     "data": {
      "image/png": "[encoded data removed]",
      "text/plain": [
       "<Figure size 640x480 with 1 Axes>"
      ]
     },
     "metadata": {},
     "output_type": "display_data"
    },
    {
     "data": {
      "image/png": "[encoded data removed]",
      "text/plain": [
       "<Figure size 640x480 with 1 Axes>"
      ]
     },
     "metadata": {},
     "output_type": "display_data"
    }
   ],
   "source": [
    "plt.plot(history.history['accuracy'])\n",
    "plt.plot(history.history['val_accuracy'])\n",
    "plt.title('model accuracy')\n",
    "plt.ylabel('accuracy')\n",
    "plt.xlabel('epoch')\n",
    "plt.legend(['train', 'test'], loc='upper left')\n",
    "plt.show()\n",
    "# summarize history for loss\n",
    "plt.plot(history.history['loss'])\n",
    "plt.plot(history.history['val_loss'])\n",
    "plt.title('model loss')\n",
    "plt.ylabel('loss')\n",
    "plt.xlabel('epoch')\n",
    "plt.legend(['train', 'test'], loc='upper left')\n",
    "plt.show()"
   ]
  },
  {
   "cell_type": "code",
   "execution_count": null,
   "metadata": {},
   "outputs": [],
   "source": []
  },
  {
   "cell_type": "code",
   "execution_count": 47,
   "metadata": {},
   "outputs": [],
   "source": [
    "yhat_val = model.predict(valX)"
   ]
  },
  {
   "cell_type": "code",
   "execution_count": 48,
   "metadata": {},
   "outputs": [
    {
     "name": "stdout",
     "output_type": "stream",
     "text": [
      "1\n",
      "1\n"
     ]
    }
   ],
   "source": [
    "valY = np.argmax(valY,axis = 1)\n",
    "yhat_val = np.argmax(yhat_val,axis = 1)\n",
    "\n",
    "print(valY[0])\n",
    "print(yhat_val[0])"
   ]
  },
  {
   "cell_type": "code",
   "execution_count": 49,
   "metadata": {},
   "outputs": [],
   "source": [
    "from sklearn.metrics import confusion_matrix\n",
    "\n",
    "def print_confusion_matrix(model_name, valY, yhat_val):\n",
    "        \n",
    "    cm = confusion_matrix(valY, yhat_val)\n",
    "    total = sum(sum(cm))\n",
    "    acc = (cm[0, 0] + cm[1, 1]) / total\n",
    "    sensitivity = cm[0, 0] / (cm[0, 0] + cm[0, 1])\n",
    "    specificity = cm[1, 1] / (cm[1, 0] + cm[1, 1])\n",
    "    \n",
    "    print(\"MODELO : {}\".format(model_name))\n",
    "    print(\"Acurácia: {:.4f}\".format(acc))\n",
    "    print(\"Sensitividade: {:.4f}\".format(sensitivity))\n",
    "    print(\"Especificidade: {:.4f}\".format(specificity))\n",
    "\n",
    "    from mlxtend.plotting import plot_confusion_matrix\n",
    "    fig, ax = plot_confusion_matrix(conf_mat=cm ,  figsize=(5, 5))\n",
    "    plt.show()"
   ]
  },
  {
   "cell_type": "code",
   "execution_count": 50,
   "metadata": {},
   "outputs": [
    {
     "name": "stdout",
     "output_type": "stream",
     "text": [
      "MODELO : KERAS\n",
      "Acurácia: 0.9962\n",
      "Sensitividade: 1.0000\n",
      "Especificidade: 0.9998\n"
     ]
    },
    {
     "data": {
      "image/png": "[encoded data removed]",
      "text/plain": [
       "<Figure size 500x500 with 1 Axes>"
      ]
     },
     "metadata": {},
     "output_type": "display_data"
    }
   ],
   "source": [
    "print_confusion_matrix(\"KERAS\", valY, yhat_val)"
   ]
  },
  {
   "cell_type": "markdown",
   "metadata": {},
   "source": [
    "## SALVANDO O MODELO"
   ]
  },
  {
   "cell_type": "code",
   "execution_count": null,
   "metadata": {},
   "outputs": [],
   "source": [
    "model.save(\"faces_desc.h5\")"
   ]
  },
  {
   "cell_type": "code",
   "execution_count": null,
   "metadata": {},
   "outputs": [],
   "source": []
  }
 ],
 "metadata": {
  "kernelspec": {
   "display_name": "Python 3 (ipykernel)",
   "language": "python",
   "name": "python3"
  },
  "language_info": {
   "codemirror_mode": {
    "name": "ipython",
    "version": 3
   },
   "file_extension": ".py",
   "mimetype": "text/x-python",
   "name": "python",
   "nbconvert_exporter": "python",
   "pygments_lexer": "ipython3",
   "version": "3.7.1"
  }
 },
 "nbformat": 4,
 "nbformat_minor": 2
}
