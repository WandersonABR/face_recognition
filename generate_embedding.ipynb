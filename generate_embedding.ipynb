{
 "cells": [
  {
   "cell_type": "code",
   "execution_count": 21,
   "id": "a702fc7c",
   "metadata": {},
   "outputs": [],
   "source": [
    "import os\n",
    "from tensorflow.keras.models import load_model\n",
    "from PIL import Image\n",
    "import numpy as np"
   ]
  },
  {
   "cell_type": "code",
   "execution_count": 22,
   "id": "95e58c71",
   "metadata": {},
   "outputs": [
    {
     "name": "stdout",
     "output_type": "stream",
     "text": [
      "WARNING:tensorflow:No training configuration found in the save file, so the model was *not* compiled. Compile it manually.\n",
      "Modelo carregado com sucesso!\n"
     ]
    }
   ],
   "source": [
    "# Inicialize o modelo FaceNet\n",
    "model = load_model('facenet_keras.h5')\n",
    "\n",
    "model.compile(optimizer=Adam(learning_rate=0.001), \n",
    "              loss='categorical_crossentropy', \n",
    "              metrics=['accuracy'])\n",
    "print(\"Modelo carregado com sucesso!\")"
   ]
  },
  {
   "cell_type": "code",
   "execution_count": 23,
   "id": "8e28dd7d",
   "metadata": {},
   "outputs": [],
   "source": [
    "def process_image(image_path, size=(160, 160)):\n",
    "    \"\"\"\n",
    "    Carrega e redimensiona uma imagem para o tamanho esperado pelo modelo FaceNet.\n",
    "    \"\"\"\n",
    "    try:\n",
    "        image = Image.open(image_path).convert(\"RGB\")\n",
    "        image = image.resize(size)  # Redimensiona para 160x160\n",
    "        image_array = np.asarray(image)\n",
    "        image_array = (image_array - 127.5) / 128.0  # Normalização como esperado pelo modelo FaceNet\n",
    "        return image_array\n",
    "    except Exception as e:\n",
    "        print(f\"Erro ao processar a imagem {image_path}: {e}\")\n",
    "        return None"
   ]
  },
  {
   "cell_type": "code",
   "execution_count": 24,
   "id": "47a8aec4",
   "metadata": {},
   "outputs": [],
   "source": [
    "def generate_embeddings_from_directory(directory, model):\n",
    "    \"\"\"\n",
    "    Processa todas as imagens em um diretório e gera embeddings.\n",
    "    \"\"\"\n",
    "    embeddings = []\n",
    "    labels = []\n",
    "    for subdir in os.listdir(directory):\n",
    "        subdir_path = os.path.join(directory, subdir)\n",
    "        if not os.path.isdir(subdir_path):\n",
    "            continue\n",
    "        \n",
    "        print(f\"Processando diretório: {subdir}\")\n",
    "        for filename in os.listdir(subdir_path):\n",
    "            file_path = os.path.join(subdir_path, filename)\n",
    "            if not filename.lower().endswith(('.png', '.jpg', '.jpeg')):\n",
    "                continue\n",
    "            \n",
    "            # Processa a imagem\n",
    "            image = process_image(file_path)\n",
    "            if image is not None:\n",
    "                # Gera o embedding usando predict\n",
    "                image = np.expand_dims(image, axis=0)  # Adiciona uma dimensão para batch\n",
    "                embedding = model.predict(image)\n",
    "                embeddings.append(embedding[0])  # Pega apenas o vetor de 128 dimensões\n",
    "                labels.append(subdir)\n",
    "    \n",
    "    return np.array(embeddings), np.array(labels)"
   ]
  },
  {
   "cell_type": "code",
   "execution_count": 25,
   "id": "0c5c8df7",
   "metadata": {},
   "outputs": [],
   "source": [
    "# Diretório principal\n",
    "validation_directory = \"C:\\\\datasets\\\\fotos\\\\validation\""
   ]
  },
  {
   "cell_type": "code",
   "execution_count": 26,
   "id": "d5c6043b",
   "metadata": {},
   "outputs": [
    {
     "name": "stdout",
     "output_type": "stream",
     "text": [
      "Processando diretório: fotosA\n",
      "Processando diretório: fotosW\n"
     ]
    }
   ],
   "source": [
    "# Gerar embeddings\n",
    "embeddings, labels = generate_embeddings_from_directory(validation_directory, model)"
   ]
  },
  {
   "cell_type": "code",
   "execution_count": 27,
   "id": "5fab150b",
   "metadata": {},
   "outputs": [
    {
     "name": "stdout",
     "output_type": "stream",
     "text": [
      "Embeddings gerados e salvos no arquivo 'validation_embeddings.csv'.\n"
     ]
    }
   ],
   "source": [
    "# Salvar os embeddings e os rótulos em um arquivo CSV\n",
    "import pandas as pd\n",
    "\n",
    "df = pd.DataFrame(embeddings)\n",
    "df['label'] = labels\n",
    "df.to_csv('validation_embeddings.csv', index=False)\n",
    "\n",
    "print(\"Embeddings gerados e salvos no arquivo 'validation_embeddings.csv'.\")"
   ]
  }
 ],
 "metadata": {
  "kernelspec": {
   "display_name": "Python 3 (ipykernel)",
   "language": "python",
   "name": "python3"
  },
  "language_info": {
   "codemirror_mode": {
    "name": "ipython",
    "version": 3
   },
   "file_extension": ".py",
   "mimetype": "text/x-python",
   "name": "python",
   "nbconvert_exporter": "python",
   "pygments_lexer": "ipython3",
   "version": "3.7.1"
  }
 },
 "nbformat": 4,
 "nbformat_minor": 5
}
